{
 "cells": [
  {
   "cell_type": "markdown",
   "metadata": {
    "application/vnd.databricks.v1+cell": {
     "cellMetadata": {
      "byteLimit": 2048000,
      "rowLimit": 10000
     },
     "inputWidgets": {},
     "nuid": "37ee9396-0a9f-4bfb-b0d4-1b8f6b9edd56",
     "showTitle": false,
     "tableResultSettingsMap": {},
     "title": ""
    }
   },
   "source": [
    "- **setup dataframe**"
   ]
  },
  {
   "cell_type": "code",
   "execution_count": 0,
   "metadata": {
    "application/vnd.databricks.v1+cell": {
     "cellMetadata": {
      "byteLimit": 2048000,
      "rowLimit": 10000
     },
     "inputWidgets": {},
     "nuid": "e8f574f6-9299-4f25-b72e-7e7a52b4ab84",
     "showTitle": false,
     "tableResultSettingsMap": {},
     "title": ""
    }
   },
   "outputs": [],
   "source": [
    "signup=[(1,'2017-09-22'), (3,'2017-04-21')]\n",
    "\n",
    "columns=['userid','gold_signup_date']\n",
    "\n",
    "goldusers_signup=spark.createDataFrame(signup,columns)\n",
    "\n",
    "usersdata=[(1,'2014-09-02'), (2,'2015-01-15'), (3,'2014-04-11')]\n",
    "\n",
    "users=spark.createDataFrame(usersdata,schema=['userid','signup_date'])\n",
    "\n",
    "sales_data=[(1,'2017-04-18',2),\n",
    "(3,'2019-12-18',1), \n",
    "(2,' 2019-12-18',3), \n",
    "(1,'2019-10-23',2), \n",
    "(1,'2018-03-19',3), \n",
    "(3,'2016-12-20',2), \n",
    "(1,'2016-11-09',1), \n",
    "(1,'2016-05-20',3), \n",
    "(2,'2017-09-24',1), \n",
    "(1,'2017-03-11',2), \n",
    "(1,'2016-03-11',1), \n",
    "(3,'2016-11-10',1), \n",
    "(3,'2017-12-07',2), \n",
    "(3,'2016-12-15',2), \n",
    "(2,'2017-11-08',2), \n",
    "(2,'2018-09-10',3)]\n",
    "\n",
    "sales=spark.createDataFrame(sales_data,schema=['userid','created_date','product_id'])\n",
    "\n",
    "product_info=[(1,'p1',980),\n",
    "(2,'p2',870),\n",
    "(3,'p3',330)]\n",
    "\n",
    "product=spark.createDataFrame(product_info,schema=['product_id','product_name','price'])"
   ]
  },
  {
   "cell_type": "markdown",
   "metadata": {
    "application/vnd.databricks.v1+cell": {
     "cellMetadata": {
      "byteLimit": 2048000,
      "rowLimit": 10000
     },
     "inputWidgets": {},
     "nuid": "485a9ddf-42ff-42f3-9e59-d88975e8e9b4",
     "showTitle": false,
     "tableResultSettingsMap": {},
     "title": ""
    }
   },
   "source": [
    "**Reviewing dataset**"
   ]
  },
  {
   "cell_type": "code",
   "execution_count": 0,
   "metadata": {
    "application/vnd.databricks.v1+cell": {
     "cellMetadata": {
      "byteLimit": 2048000,
      "rowLimit": 10000
     },
     "inputWidgets": {},
     "nuid": "b43888df-2203-4645-bb40-d6539294af1b",
     "showTitle": false,
     "tableResultSettingsMap": {},
     "title": ""
    }
   },
   "outputs": [
    {
     "output_type": "display_data",
     "data": {
      "text/html": [
       "<style scoped>\n",
       "  .table-result-container {\n",
       "    max-height: 300px;\n",
       "    overflow: auto;\n",
       "  }\n",
       "  table, th, td {\n",
       "    border: 1px solid black;\n",
       "    border-collapse: collapse;\n",
       "  }\n",
       "  th, td {\n",
       "    padding: 5px;\n",
       "  }\n",
       "  th {\n",
       "    text-align: left;\n",
       "  }\n",
       "</style><div class='table-result-container'><table class='table-result'><thead style='background-color: white'><tr><th>userid</th><th>gold_signup_date</th></tr></thead><tbody><tr><td>1</td><td>2017-09-22</td></tr></tbody></table></div>"
      ]
     },
     "metadata": {
      "application/vnd.databricks.v1+output": {
       "addedWidgets": {},
       "aggData": [],
       "aggError": "",
       "aggOverflow": false,
       "aggSchema": [],
       "aggSeriesLimitReached": false,
       "aggType": "",
       "arguments": {},
       "columnCustomDisplayInfos": {},
       "data": [
        [
         1,
         "2017-09-22"
        ]
       ],
       "datasetInfos": [],
       "dbfsResultPath": null,
       "isJsonSchema": true,
       "metadata": {},
       "overflow": false,
       "plotOptions": {
        "customPlotOptions": {},
        "displayType": "table",
        "pivotAggregation": null,
        "pivotColumns": null,
        "xColumns": null,
        "yColumns": null
       },
       "removedWidgets": [],
       "schema": [
        {
         "metadata": "{}",
         "name": "userid",
         "type": "\"long\""
        },
        {
         "metadata": "{}",
         "name": "gold_signup_date",
         "type": "\"string\""
        }
       ],
       "type": "table"
      }
     },
     "output_type": "display_data"
    },
    {
     "output_type": "display_data",
     "data": {
      "text/html": [
       "<style scoped>\n",
       "  .table-result-container {\n",
       "    max-height: 300px;\n",
       "    overflow: auto;\n",
       "  }\n",
       "  table, th, td {\n",
       "    border: 1px solid black;\n",
       "    border-collapse: collapse;\n",
       "  }\n",
       "  th, td {\n",
       "    padding: 5px;\n",
       "  }\n",
       "  th {\n",
       "    text-align: left;\n",
       "  }\n",
       "</style><div class='table-result-container'><table class='table-result'><thead style='background-color: white'><tr><th>product_id</th><th>product_name</th><th>price</th></tr></thead><tbody><tr><td>1</td><td>p1</td><td>980</td></tr></tbody></table></div>"
      ]
     },
     "metadata": {
      "application/vnd.databricks.v1+output": {
       "addedWidgets": {},
       "aggData": [],
       "aggError": "",
       "aggOverflow": false,
       "aggSchema": [],
       "aggSeriesLimitReached": false,
       "aggType": "",
       "arguments": {},
       "columnCustomDisplayInfos": {},
       "data": [
        [
         1,
         "p1",
         980
        ]
       ],
       "datasetInfos": [],
       "dbfsResultPath": null,
       "isJsonSchema": true,
       "metadata": {},
       "overflow": false,
       "plotOptions": {
        "customPlotOptions": {},
        "displayType": "table",
        "pivotAggregation": null,
        "pivotColumns": null,
        "xColumns": null,
        "yColumns": null
       },
       "removedWidgets": [],
       "schema": [
        {
         "metadata": "{}",
         "name": "product_id",
         "type": "\"long\""
        },
        {
         "metadata": "{}",
         "name": "product_name",
         "type": "\"string\""
        },
        {
         "metadata": "{}",
         "name": "price",
         "type": "\"long\""
        }
       ],
       "type": "table"
      }
     },
     "output_type": "display_data"
    },
    {
     "output_type": "display_data",
     "data": {
      "text/html": [
       "<style scoped>\n",
       "  .table-result-container {\n",
       "    max-height: 300px;\n",
       "    overflow: auto;\n",
       "  }\n",
       "  table, th, td {\n",
       "    border: 1px solid black;\n",
       "    border-collapse: collapse;\n",
       "  }\n",
       "  th, td {\n",
       "    padding: 5px;\n",
       "  }\n",
       "  th {\n",
       "    text-align: left;\n",
       "  }\n",
       "</style><div class='table-result-container'><table class='table-result'><thead style='background-color: white'><tr><th>userid</th><th>created_date</th><th>product_id</th></tr></thead><tbody><tr><td>1</td><td>2017-04-18</td><td>2</td></tr></tbody></table></div>"
      ]
     },
     "metadata": {
      "application/vnd.databricks.v1+output": {
       "addedWidgets": {},
       "aggData": [],
       "aggError": "",
       "aggOverflow": false,
       "aggSchema": [],
       "aggSeriesLimitReached": false,
       "aggType": "",
       "arguments": {},
       "columnCustomDisplayInfos": {},
       "data": [
        [
         1,
         "2017-04-18",
         2
        ]
       ],
       "datasetInfos": [],
       "dbfsResultPath": null,
       "isJsonSchema": true,
       "metadata": {},
       "overflow": false,
       "plotOptions": {
        "customPlotOptions": {},
        "displayType": "table",
        "pivotAggregation": null,
        "pivotColumns": null,
        "xColumns": null,
        "yColumns": null
       },
       "removedWidgets": [],
       "schema": [
        {
         "metadata": "{}",
         "name": "userid",
         "type": "\"long\""
        },
        {
         "metadata": "{}",
         "name": "created_date",
         "type": "\"string\""
        },
        {
         "metadata": "{}",
         "name": "product_id",
         "type": "\"long\""
        }
       ],
       "type": "table"
      }
     },
     "output_type": "display_data"
    },
    {
     "output_type": "display_data",
     "data": {
      "text/html": [
       "<style scoped>\n",
       "  .table-result-container {\n",
       "    max-height: 300px;\n",
       "    overflow: auto;\n",
       "  }\n",
       "  table, th, td {\n",
       "    border: 1px solid black;\n",
       "    border-collapse: collapse;\n",
       "  }\n",
       "  th, td {\n",
       "    padding: 5px;\n",
       "  }\n",
       "  th {\n",
       "    text-align: left;\n",
       "  }\n",
       "</style><div class='table-result-container'><table class='table-result'><thead style='background-color: white'><tr><th>userid</th><th>signup_date</th></tr></thead><tbody><tr><td>1</td><td>2014-09-02</td></tr></tbody></table></div>"
      ]
     },
     "metadata": {
      "application/vnd.databricks.v1+output": {
       "addedWidgets": {},
       "aggData": [],
       "aggError": "",
       "aggOverflow": false,
       "aggSchema": [],
       "aggSeriesLimitReached": false,
       "aggType": "",
       "arguments": {},
       "columnCustomDisplayInfos": {},
       "data": [
        [
         1,
         "2014-09-02"
        ]
       ],
       "datasetInfos": [],
       "dbfsResultPath": null,
       "isJsonSchema": true,
       "metadata": {},
       "overflow": false,
       "plotOptions": {
        "customPlotOptions": {},
        "displayType": "table",
        "pivotAggregation": null,
        "pivotColumns": null,
        "xColumns": null,
        "yColumns": null
       },
       "removedWidgets": [],
       "schema": [
        {
         "metadata": "{}",
         "name": "userid",
         "type": "\"long\""
        },
        {
         "metadata": "{}",
         "name": "signup_date",
         "type": "\"string\""
        }
       ],
       "type": "table"
      }
     },
     "output_type": "display_data"
    }
   ],
   "source": [
    "goldusers_signup.limit(1).display()\n",
    "product.limit(1).display()\n",
    "sales.limit(1).display()\n",
    "users.limit(1).display()\n"
   ]
  },
  {
   "cell_type": "markdown",
   "metadata": {
    "application/vnd.databricks.v1+cell": {
     "cellMetadata": {
      "byteLimit": 2048000,
      "rowLimit": 10000
     },
     "inputWidgets": {},
     "nuid": "70b0e5a6-28fd-4bd6-9fb3-2ed851c29ab4",
     "showTitle": false,
     "tableResultSettingsMap": {},
     "title": ""
    }
   },
   "source": [
    "**Date column datatype need to change in date format**"
   ]
  },
  {
   "cell_type": "code",
   "execution_count": 0,
   "metadata": {
    "application/vnd.databricks.v1+cell": {
     "cellMetadata": {
      "byteLimit": 2048000,
      "rowLimit": 10000
     },
     "inputWidgets": {},
     "nuid": "4f0bf900-5f0c-41b6-a403-f50d3499b1e6",
     "showTitle": false,
     "tableResultSettingsMap": {},
     "title": ""
    }
   },
   "outputs": [
    {
     "output_type": "stream",
     "name": "stdout",
     "output_type": "stream",
     "text": [
      "root\n |-- userid: long (nullable = true)\n |-- gold_signup_date: string (nullable = true)\n\nroot\n |-- userid: long (nullable = true)\n |-- signup_date: string (nullable = true)\n\nroot\n |-- userid: long (nullable = true)\n |-- created_date: string (nullable = true)\n |-- product_id: long (nullable = true)\n\nroot\n |-- product_id: long (nullable = true)\n |-- product_name: string (nullable = true)\n |-- price: long (nullable = true)\n\n"
     ]
    }
   ],
   "source": [
    "goldusers_signup.printSchema()\n",
    "\n",
    "users.printSchema()\n",
    "\n",
    "sales.printSchema()\n",
    "\n",
    "product.printSchema()\n"
   ]
  },
  {
   "cell_type": "code",
   "execution_count": 0,
   "metadata": {
    "application/vnd.databricks.v1+cell": {
     "cellMetadata": {
      "byteLimit": 2048000,
      "rowLimit": 10000
     },
     "inputWidgets": {},
     "nuid": "0d5f679e-e08c-45cc-9a10-d854c318d7a9",
     "showTitle": false,
     "tableResultSettingsMap": {},
     "title": ""
    }
   },
   "outputs": [],
   "source": [
    "from pyspark.sql.types import DateType\n",
    "from pyspark.sql.functions import col\n",
    "\n",
    "goldusers_signup=goldusers_signup.withColumn('gold_signup_date',col('gold_signup_date').cast(DateType()))\n",
    "\n",
    "users=users.withColumn('signup_date',col('signup_date').cast(DateType()))\n",
    "\n",
    "sales=sales.withColumn('created_date',col('created_date').cast(DateType()))"
   ]
  },
  {
   "cell_type": "code",
   "execution_count": 0,
   "metadata": {
    "application/vnd.databricks.v1+cell": {
     "cellMetadata": {
      "byteLimit": 2048000,
      "rowLimit": 10000
     },
     "inputWidgets": {},
     "nuid": "e70e3477-9092-48dc-a334-b7991360287a",
     "showTitle": false,
     "tableResultSettingsMap": {},
     "title": ""
    }
   },
   "outputs": [],
   "source": []
  },
  {
   "cell_type": "markdown",
   "metadata": {
    "application/vnd.databricks.v1+cell": {
     "cellMetadata": {
      "byteLimit": 2048000,
      "rowLimit": 10000
     },
     "inputWidgets": {},
     "nuid": "46110c2c-43ac-4f31-81cb-10ce185ff550",
     "showTitle": false,
     "tableResultSettingsMap": {},
     "title": ""
    }
   },
   "source": [
    "\n",
    "**_1 ---- what is total amount each customer spent on zomato ?_**"
   ]
  },
  {
   "cell_type": "code",
   "execution_count": 0,
   "metadata": {
    "application/vnd.databricks.v1+cell": {
     "cellMetadata": {
      "byteLimit": 2048000,
      "rowLimit": 10000
     },
     "inputWidgets": {},
     "nuid": "e254bb86-b353-4b27-8aff-25f04a31d4b4",
     "showTitle": false,
     "tableResultSettingsMap": {},
     "title": ""
    }
   },
   "outputs": [
    {
     "output_type": "display_data",
     "data": {
      "text/html": [
       "<style scoped>\n",
       "  .table-result-container {\n",
       "    max-height: 300px;\n",
       "    overflow: auto;\n",
       "  }\n",
       "  table, th, td {\n",
       "    border: 1px solid black;\n",
       "    border-collapse: collapse;\n",
       "  }\n",
       "  th, td {\n",
       "    padding: 5px;\n",
       "  }\n",
       "  th {\n",
       "    text-align: left;\n",
       "  }\n",
       "</style><div class='table-result-container'><table class='table-result'><thead style='background-color: white'><tr><th>userid</th><th>Total Spend</th></tr></thead><tbody><tr><td>1</td><td>5230</td></tr><tr><td>2</td><td>2510</td></tr><tr><td>3</td><td>4570</td></tr></tbody></table></div>"
      ]
     },
     "metadata": {
      "application/vnd.databricks.v1+output": {
       "addedWidgets": {},
       "aggData": [],
       "aggError": "",
       "aggOverflow": false,
       "aggSchema": [],
       "aggSeriesLimitReached": false,
       "aggType": "",
       "arguments": {},
       "columnCustomDisplayInfos": {},
       "data": [
        [
         1,
         5230
        ],
        [
         2,
         2510
        ],
        [
         3,
         4570
        ]
       ],
       "datasetInfos": [],
       "dbfsResultPath": null,
       "isJsonSchema": true,
       "metadata": {},
       "overflow": false,
       "plotOptions": {
        "customPlotOptions": {},
        "displayType": "table",
        "pivotAggregation": null,
        "pivotColumns": null,
        "xColumns": null,
        "yColumns": null
       },
       "removedWidgets": [],
       "schema": [
        {
         "metadata": "{}",
         "name": "userid",
         "type": "\"long\""
        },
        {
         "metadata": "{}",
         "name": "Total Spend",
         "type": "\"long\""
        }
       ],
       "type": "table"
      }
     },
     "output_type": "display_data"
    }
   ],
   "source": [
    "from pyspark.sql.functions import count,sum\n",
    "\n",
    "users.join(sales,users['userid']==sales['userid'],'inner')\\\n",
    "     .join(product,sales['product_id']==product['product_id'],'left')\\\n",
    "        .select(users['userid'],product['price']).groupBy('userid').agg(sum('price')\n",
    "                                                                    .alias('Total Spend')).display()"
   ]
  },
  {
   "cell_type": "markdown",
   "metadata": {
    "application/vnd.databricks.v1+cell": {
     "cellMetadata": {
      "byteLimit": 2048000,
      "rowLimit": 10000
     },
     "inputWidgets": {},
     "nuid": "1ae78d82-1df4-442f-9fe7-b7ef40fb1d42",
     "showTitle": false,
     "tableResultSettingsMap": {},
     "title": ""
    }
   },
   "source": [
    "**_2 ---- How many days has each customer visited zomato?_**"
   ]
  },
  {
   "cell_type": "code",
   "execution_count": 0,
   "metadata": {
    "application/vnd.databricks.v1+cell": {
     "cellMetadata": {
      "byteLimit": 2048000,
      "rowLimit": 10000
     },
     "inputWidgets": {},
     "nuid": "bf34ab55-9072-4a96-ab5a-8571817380ec",
     "showTitle": false,
     "tableResultSettingsMap": {},
     "title": ""
    }
   },
   "outputs": [
    {
     "output_type": "display_data",
     "data": {
      "text/html": [
       "<style scoped>\n",
       "  .table-result-container {\n",
       "    max-height: 300px;\n",
       "    overflow: auto;\n",
       "  }\n",
       "  table, th, td {\n",
       "    border: 1px solid black;\n",
       "    border-collapse: collapse;\n",
       "  }\n",
       "  th, td {\n",
       "    padding: 5px;\n",
       "  }\n",
       "  th {\n",
       "    text-align: left;\n",
       "  }\n",
       "</style><div class='table-result-container'><table class='table-result'><thead style='background-color: white'><tr><th>userid</th><th>Total Visited</th></tr></thead><tbody><tr><td>1</td><td>7</td></tr><tr><td>3</td><td>5</td></tr><tr><td>2</td><td>4</td></tr></tbody></table></div>"
      ]
     },
     "metadata": {
      "application/vnd.databricks.v1+output": {
       "addedWidgets": {},
       "aggData": [],
       "aggError": "",
       "aggOverflow": false,
       "aggSchema": [],
       "aggSeriesLimitReached": false,
       "aggType": "",
       "arguments": {},
       "columnCustomDisplayInfos": {},
       "data": [
        [
         1,
         7
        ],
        [
         3,
         5
        ],
        [
         2,
         4
        ]
       ],
       "datasetInfos": [],
       "dbfsResultPath": null,
       "isJsonSchema": true,
       "metadata": {},
       "overflow": false,
       "plotOptions": {
        "customPlotOptions": {},
        "displayType": "table",
        "pivotAggregation": null,
        "pivotColumns": null,
        "xColumns": null,
        "yColumns": null
       },
       "removedWidgets": [],
       "schema": [
        {
         "metadata": "{}",
         "name": "userid",
         "type": "\"long\""
        },
        {
         "metadata": "{}",
         "name": "Total Visited",
         "type": "\"long\""
        }
       ],
       "type": "table"
      }
     },
     "output_type": "display_data"
    }
   ],
   "source": [
    "from pyspark.sql.functions import count,col,desc\n",
    "\n",
    "sales.groupBy('userid').agg(count('created_date').alias('Total Visited'))\\\n",
    "     .orderBy(col('Total Visited').desc()).display()"
   ]
  },
  {
   "cell_type": "markdown",
   "metadata": {
    "application/vnd.databricks.v1+cell": {
     "cellMetadata": {
      "byteLimit": 2048000,
      "rowLimit": 10000
     },
     "inputWidgets": {},
     "nuid": "8a171962-8334-4aad-bcde-9d48529d696e",
     "showTitle": false,
     "tableResultSettingsMap": {},
     "title": ""
    }
   },
   "source": [
    "**_3 --- what was the first product purchased by each customer?_**"
   ]
  },
  {
   "cell_type": "code",
   "execution_count": 0,
   "metadata": {
    "application/vnd.databricks.v1+cell": {
     "cellMetadata": {
      "byteLimit": 2048000,
      "rowLimit": 10000
     },
     "inputWidgets": {},
     "nuid": "2438478b-bc8a-42ac-ad52-2db545ef15f1",
     "showTitle": false,
     "tableResultSettingsMap": {},
     "title": ""
    }
   },
   "outputs": [
    {
     "output_type": "display_data",
     "data": {
      "text/html": [
       "<style scoped>\n",
       "  .table-result-container {\n",
       "    max-height: 300px;\n",
       "    overflow: auto;\n",
       "  }\n",
       "  table, th, td {\n",
       "    border: 1px solid black;\n",
       "    border-collapse: collapse;\n",
       "  }\n",
       "  th, td {\n",
       "    padding: 5px;\n",
       "  }\n",
       "  th {\n",
       "    text-align: left;\n",
       "  }\n",
       "</style><div class='table-result-container'><table class='table-result'><thead style='background-color: white'><tr><th>userid</th><th>purchased_on</th><th>product_id</th></tr></thead><tbody><tr><td>1</td><td>2016-03-11</td><td>1</td></tr><tr><td>2</td><td>2017-09-24</td><td>1</td></tr><tr><td>3</td><td>2016-11-10</td><td>1</td></tr></tbody></table></div>"
      ]
     },
     "metadata": {
      "application/vnd.databricks.v1+output": {
       "addedWidgets": {},
       "aggData": [],
       "aggError": "",
       "aggOverflow": false,
       "aggSchema": [],
       "aggSeriesLimitReached": false,
       "aggType": "",
       "arguments": {},
       "columnCustomDisplayInfos": {},
       "data": [
        [
         1,
         "2016-03-11",
         1
        ],
        [
         2,
         "2017-09-24",
         1
        ],
        [
         3,
         "2016-11-10",
         1
        ]
       ],
       "datasetInfos": [],
       "dbfsResultPath": null,
       "isJsonSchema": true,
       "metadata": {},
       "overflow": false,
       "plotOptions": {
        "customPlotOptions": {},
        "displayType": "table",
        "pivotAggregation": null,
        "pivotColumns": null,
        "xColumns": null,
        "yColumns": null
       },
       "removedWidgets": [],
       "schema": [
        {
         "metadata": "{}",
         "name": "userid",
         "type": "\"long\""
        },
        {
         "metadata": "{}",
         "name": "purchased_on",
         "type": "\"date\""
        },
        {
         "metadata": "{}",
         "name": "product_id",
         "type": "\"long\""
        }
       ],
       "type": "table"
      }
     },
     "output_type": "display_data"
    }
   ],
   "source": [
    "from pyspark.sql.functions import window,rank,row_number,dense_rank,col\n",
    "from pyspark.sql.window import Window  \n",
    "\n",
    "sales.withColumn('rank',row_number().over(Window.partitionBy('userid').orderBy(col('created_date').asc())))\\\n",
    "    .filter(col('rank')==1).select(col('userid'),col('created_date').alias('purchased_on'),col('product_id'))\\\n",
    "    .display()"
   ]
  },
  {
   "cell_type": "markdown",
   "metadata": {
    "application/vnd.databricks.v1+cell": {
     "cellMetadata": {
      "byteLimit": 2048000,
      "rowLimit": 10000
     },
     "inputWidgets": {},
     "nuid": "755d3a80-5ac4-4b66-b890-51b1417fcea5",
     "showTitle": false,
     "tableResultSettingsMap": {},
     "title": ""
    }
   },
   "source": [
    "**_4 -- what is most purchased item on menu & how many times was it purchased by all customers ?_**"
   ]
  },
  {
   "cell_type": "code",
   "execution_count": 0,
   "metadata": {
    "application/vnd.databricks.v1+cell": {
     "cellMetadata": {
      "byteLimit": 2048000,
      "rowLimit": 10000
     },
     "inputWidgets": {},
     "nuid": "445fd045-3ff4-4806-aa3a-600ccadd0aae",
     "showTitle": false,
     "tableResultSettingsMap": {},
     "title": ""
    }
   },
   "outputs": [
    {
     "output_type": "display_data",
     "data": {
      "text/html": [
       "<style scoped>\n",
       "  .table-result-container {\n",
       "    max-height: 300px;\n",
       "    overflow: auto;\n",
       "  }\n",
       "  table, th, td {\n",
       "    border: 1px solid black;\n",
       "    border-collapse: collapse;\n",
       "  }\n",
       "  th, td {\n",
       "    padding: 5px;\n",
       "  }\n",
       "  th {\n",
       "    text-align: left;\n",
       "  }\n",
       "</style><div class='table-result-container'><table class='table-result'><thead style='background-color: white'><tr><th>product_id</th><th>Total Purchased times</th></tr></thead><tbody><tr><td>2</td><td>7</td></tr></tbody></table></div>"
      ]
     },
     "metadata": {
      "application/vnd.databricks.v1+output": {
       "addedWidgets": {},
       "aggData": [],
       "aggError": "",
       "aggOverflow": false,
       "aggSchema": [],
       "aggSeriesLimitReached": false,
       "aggType": "",
       "arguments": {},
       "columnCustomDisplayInfos": {},
       "data": [
        [
         2,
         7
        ]
       ],
       "datasetInfos": [],
       "dbfsResultPath": null,
       "isJsonSchema": true,
       "metadata": {},
       "overflow": false,
       "plotOptions": {
        "customPlotOptions": {},
        "displayType": "table",
        "pivotAggregation": null,
        "pivotColumns": null,
        "xColumns": null,
        "yColumns": null
       },
       "removedWidgets": [],
       "schema": [
        {
         "metadata": "{}",
         "name": "product_id",
         "type": "\"long\""
        },
        {
         "metadata": "{}",
         "name": "Total Purchased times",
         "type": "\"long\""
        }
       ],
       "type": "table"
      }
     },
     "output_type": "display_data"
    }
   ],
   "source": [
    "from pyspark.sql.functions import max,count\n",
    "sales.groupBy('product_id').agg(count('product_id')\\\n",
    "    .alias('Total Purchased times'),count('product_id').alias('Most Fav Iteam'))\\\n",
    "    .withColumn('Rank',row_number().over(Window.orderBy(col('Most Fav Iteam').desc())))\\\n",
    "    .filter(col('Rank')==1).select('product_id','Total Purchased times').display()\n"
   ]
  },
  {
   "cell_type": "markdown",
   "metadata": {
    "application/vnd.databricks.v1+cell": {
     "cellMetadata": {
      "byteLimit": 2048000,
      "rowLimit": 10000
     },
     "inputWidgets": {},
     "nuid": "495c14a7-6fdc-4d05-a398-6738f5546057",
     "showTitle": false,
     "tableResultSettingsMap": {},
     "title": ""
    }
   },
   "source": [
    "**_5 ---- which item was most popular for each customer?_**"
   ]
  },
  {
   "cell_type": "code",
   "execution_count": 0,
   "metadata": {
    "application/vnd.databricks.v1+cell": {
     "cellMetadata": {
      "byteLimit": 2048000,
      "rowLimit": 10000
     },
     "inputWidgets": {},
     "nuid": "51942aee-f7fa-4ed5-b57f-200dd88f163a",
     "showTitle": false,
     "tableResultSettingsMap": {},
     "title": ""
    }
   },
   "outputs": [
    {
     "output_type": "display_data",
     "data": {
      "text/html": [
       "<style scoped>\n",
       "  .table-result-container {\n",
       "    max-height: 300px;\n",
       "    overflow: auto;\n",
       "  }\n",
       "  table, th, td {\n",
       "    border: 1px solid black;\n",
       "    border-collapse: collapse;\n",
       "  }\n",
       "  th, td {\n",
       "    padding: 5px;\n",
       "  }\n",
       "  th {\n",
       "    text-align: left;\n",
       "  }\n",
       "</style><div class='table-result-container'><table class='table-result'><thead style='background-color: white'><tr><th>userid</th><th>product_id</th><th>total times purchased</th></tr></thead><tbody><tr><td>1</td><td>2</td><td>3</td></tr><tr><td>2</td><td>3</td><td>2</td></tr><tr><td>3</td><td>2</td><td>3</td></tr></tbody></table></div>"
      ]
     },
     "metadata": {
      "application/vnd.databricks.v1+output": {
       "addedWidgets": {},
       "aggData": [],
       "aggError": "",
       "aggOverflow": false,
       "aggSchema": [],
       "aggSeriesLimitReached": false,
       "aggType": "",
       "arguments": {},
       "columnCustomDisplayInfos": {},
       "data": [
        [
         1,
         2,
         3
        ],
        [
         2,
         3,
         2
        ],
        [
         3,
         2,
         3
        ]
       ],
       "datasetInfos": [],
       "dbfsResultPath": null,
       "isJsonSchema": true,
       "metadata": {},
       "overflow": false,
       "plotOptions": {
        "customPlotOptions": {},
        "displayType": "table",
        "pivotAggregation": null,
        "pivotColumns": null,
        "xColumns": null,
        "yColumns": null
       },
       "removedWidgets": [],
       "schema": [
        {
         "metadata": "{}",
         "name": "userid",
         "type": "\"long\""
        },
        {
         "metadata": "{}",
         "name": "product_id",
         "type": "\"long\""
        },
        {
         "metadata": "{}",
         "name": "total times purchased",
         "type": "\"long\""
        }
       ],
       "type": "table"
      }
     },
     "output_type": "display_data"
    }
   ],
   "source": [
    "sales.groupBy('userid','product_id').agg(count('product_id').alias('total times purchased'))\\\n",
    "    .withColumn('rank',row_number().over(Window.partitionBy('userid')\\\n",
    "        .orderBy(col('total times purchased').desc())))\\\n",
    "            .filter(col('rank')==1)\\\n",
    "                .select('userid','product_id','total times purchased').display()"
   ]
  },
  {
   "cell_type": "markdown",
   "metadata": {
    "application/vnd.databricks.v1+cell": {
     "cellMetadata": {
      "byteLimit": 2048000,
      "rowLimit": 10000
     },
     "inputWidgets": {},
     "nuid": "26145b5a-6a6a-403b-83df-ef0b9967dbed",
     "showTitle": false,
     "tableResultSettingsMap": {},
     "title": ""
    }
   },
   "source": [
    "**_6 --- which item was purchased first by customer after they become a member ?_**"
   ]
  },
  {
   "cell_type": "code",
   "execution_count": 0,
   "metadata": {
    "application/vnd.databricks.v1+cell": {
     "cellMetadata": {
      "byteLimit": 2048000,
      "rowLimit": 10000
     },
     "inputWidgets": {},
     "nuid": "f3c0d106-34cd-4206-96a2-80f910f98629",
     "showTitle": false,
     "tableResultSettingsMap": {},
     "title": ""
    }
   },
   "outputs": [
    {
     "output_type": "display_data",
     "data": {
      "text/html": [
       "<style scoped>\n",
       "  .table-result-container {\n",
       "    max-height: 300px;\n",
       "    overflow: auto;\n",
       "  }\n",
       "  table, th, td {\n",
       "    border: 1px solid black;\n",
       "    border-collapse: collapse;\n",
       "  }\n",
       "  th, td {\n",
       "    padding: 5px;\n",
       "  }\n",
       "  th {\n",
       "    text-align: left;\n",
       "  }\n",
       "</style><div class='table-result-container'><table class='table-result'><thead style='background-color: white'><tr><th>userid</th><th>gold_signup_date</th><th>created_date</th><th>product_id</th></tr></thead><tbody><tr><td>1</td><td>2017-09-22</td><td>2016-03-11</td><td>1</td></tr><tr><td>3</td><td>2017-04-21</td><td>2016-11-10</td><td>1</td></tr></tbody></table></div>"
      ]
     },
     "metadata": {
      "application/vnd.databricks.v1+output": {
       "addedWidgets": {},
       "aggData": [],
       "aggError": "",
       "aggOverflow": false,
       "aggSchema": [],
       "aggSeriesLimitReached": false,
       "aggType": "",
       "arguments": {},
       "columnCustomDisplayInfos": {},
       "data": [
        [
         1,
         "2017-09-22",
         "2016-03-11",
         1
        ],
        [
         3,
         "2017-04-21",
         "2016-11-10",
         1
        ]
       ],
       "datasetInfos": [],
       "dbfsResultPath": null,
       "isJsonSchema": true,
       "metadata": {},
       "overflow": false,
       "plotOptions": {
        "customPlotOptions": {},
        "displayType": "table",
        "pivotAggregation": null,
        "pivotColumns": null,
        "xColumns": null,
        "yColumns": null
       },
       "removedWidgets": [],
       "schema": [
        {
         "metadata": "{}",
         "name": "userid",
         "type": "\"long\""
        },
        {
         "metadata": "{}",
         "name": "gold_signup_date",
         "type": "\"date\""
        },
        {
         "metadata": "{}",
         "name": "created_date",
         "type": "\"date\""
        },
        {
         "metadata": "{}",
         "name": "product_id",
         "type": "\"long\""
        }
       ],
       "type": "table"
      }
     },
     "output_type": "display_data"
    }
   ],
   "source": [
    "users.alias('u').join(goldusers_signup.alias('g'),users[\"userid\"]==goldusers_signup[\"userid\"],'left')\\\n",
    "    .select(\"u.userid\",\"g.gold_signup_date\")\\\n",
    "    .join(sales.alias('s'),(users[\"userid\"]==sales[\"userid\"]),'inner')\\\n",
    "        .select(\"u.userid\",\"g.gold_signup_date\",\"s.created_date\",\"s.product_id\")\\\n",
    "            .filter(col(\"created_date\")<col(\"gold_signup_date\"))\\\n",
    "            .withColumn(\"rank\",row_number().over(Window.partitionBy(\"userid\").orderBy(col(\"created_date\").asc())))\\\n",
    "                .where(col(\"rank\")==1).select('userid','gold_signup_date','created_date','product_id').display()"
   ]
  },
  {
   "cell_type": "markdown",
   "metadata": {
    "application/vnd.databricks.v1+cell": {
     "cellMetadata": {
      "byteLimit": 2048000,
      "rowLimit": 10000
     },
     "inputWidgets": {},
     "nuid": "7d88f365-3635-4c1f-99d1-4dddd631cd38",
     "showTitle": false,
     "tableResultSettingsMap": {},
     "title": ""
    }
   },
   "source": [
    "**7 --- which item was purchased just before customer became a member?**"
   ]
  },
  {
   "cell_type": "code",
   "execution_count": 0,
   "metadata": {
    "application/vnd.databricks.v1+cell": {
     "cellMetadata": {
      "byteLimit": 2048000,
      "rowLimit": 10000
     },
     "inputWidgets": {},
     "nuid": "2bd885c3-17f0-48ce-9857-9e68e192a9c4",
     "showTitle": false,
     "tableResultSettingsMap": {},
     "title": ""
    }
   },
   "outputs": [
    {
     "output_type": "stream",
     "name": "stdout",
     "output_type": "stream",
     "text": [
      "+------+------------+----------+----------------+\n|userid|created_date|product_id|gold_signup_date|\n+------+------------+----------+----------------+\n|     1|  2017-04-18|         2|      2017-09-22|\n|     3|  2016-12-20|         2|      2017-04-21|\n+------+------------+----------+----------------+\n\n"
     ]
    }
   ],
   "source": [
    "# goldusers_signup.display()\n",
    "\n",
    "sales.alias('s').join(goldusers_signup.alias('g'),sales['userid']==goldusers_signup['userid'],'inner')\\\n",
    "    .filter(col('created_date')< col('gold_signup_date'))\\\n",
    "    .withColumn('Last Order',row_number().over(Window.partitionBy('s.userid').orderBy(col('created_date')\\\n",
    "        .desc()))).filter(col('Last Order')==1).select('s.userid','created_date','s.product_id','gold_signup_date')\\\n",
    "            .show()"
   ]
  },
  {
   "cell_type": "markdown",
   "metadata": {
    "application/vnd.databricks.v1+cell": {
     "cellMetadata": {},
     "inputWidgets": {},
     "nuid": "fca0f73f-20b8-4528-bf8d-763c8ba2ee90",
     "showTitle": false,
     "tableResultSettingsMap": {},
     "title": ""
    }
   },
   "source": [
    "**_8 ---- what is total orders and amount spent for each member before they become a member ?_**"
   ]
  },
  {
   "cell_type": "code",
   "execution_count": 0,
   "metadata": {
    "application/vnd.databricks.v1+cell": {
     "cellMetadata": {
      "byteLimit": 2048000,
      "rowLimit": 10000
     },
     "inputWidgets": {},
     "nuid": "d406a116-7779-4147-8586-5329971a0ec6",
     "showTitle": false,
     "tableResultSettingsMap": {},
     "title": ""
    }
   },
   "outputs": [
    {
     "output_type": "stream",
     "name": "stdout",
     "output_type": "stream",
     "text": [
      "+------+------------------+\n|userid|Total Amount Spend|\n+------+------------------+\n|     1|              4030|\n|     3|              2720|\n+------+------------------+\n\n"
     ]
    }
   ],
   "source": [
    "from pyspark.sql.functions import sum\n",
    "\n",
    "sales.alias('s').join(product.alias('p'),sales['product_id']==product['product_id'],'inner')\\\n",
    "    .join(goldusers_signup.alias('g'),sales['userid']==goldusers_signup['userid'],'inner')\\\n",
    "        .filter(col('gold_signup_date')>col('created_date'))\\\n",
    "            .groupBy('s.userid').agg(sum('p.price').alias('Total Amount Spend')).show()\n"
   ]
  },
  {
   "cell_type": "markdown",
   "metadata": {
    "application/vnd.databricks.v1+cell": {
     "cellMetadata": {},
     "inputWidgets": {},
     "nuid": "d6339e82-fb4b-400c-aced-afd8aaf9364c",
     "showTitle": false,
     "tableResultSettingsMap": {},
     "title": ""
    }
   },
   "source": [
    "**_9 --- rank all transaction of the customers_**"
   ]
  },
  {
   "cell_type": "code",
   "execution_count": 0,
   "metadata": {
    "application/vnd.databricks.v1+cell": {
     "cellMetadata": {
      "byteLimit": 2048000,
      "rowLimit": 10000
     },
     "inputWidgets": {},
     "nuid": "f53704e5-72ab-429e-9a95-bb4e58764552",
     "showTitle": false,
     "tableResultSettingsMap": {},
     "title": ""
    }
   },
   "outputs": [
    {
     "output_type": "stream",
     "name": "stdout",
     "output_type": "stream",
     "text": [
      "+------+-----------+------------+----------+----+\n|userid|signup_date|created_date|product_id|Rank|\n+------+-----------+------------+----------+----+\n|     1| 2014-09-02|  2016-03-11|         1|   1|\n|     1| 2014-09-02|  2016-05-20|         3|   2|\n|     1| 2014-09-02|  2016-11-09|         1|   3|\n|     1| 2014-09-02|  2017-03-11|         2|   4|\n|     1| 2014-09-02|  2017-04-18|         2|   5|\n|     1| 2014-09-02|  2018-03-19|         3|   6|\n|     1| 2014-09-02|  2019-10-23|         2|   7|\n|     2| 2015-01-15|  2017-09-24|         1|   1|\n|     2| 2015-01-15|  2017-11-08|         2|   2|\n|     2| 2015-01-15|  2018-09-10|         3|   3|\n|     2| 2015-01-15|  2019-12-18|         3|   4|\n|     3| 2014-04-11|  2016-11-10|         1|   1|\n|     3| 2014-04-11|  2016-12-15|         2|   2|\n|     3| 2014-04-11|  2016-12-20|         2|   3|\n|     3| 2014-04-11|  2017-12-07|         2|   4|\n|     3| 2014-04-11|  2019-12-18|         1|   5|\n+------+-----------+------------+----------+----+\n\n"
     ]
    }
   ],
   "source": [
    "from pyspark.sql.functions import row_number,col\n",
    "from pyspark.sql.window import Window\n",
    "users.alias('u').join(sales.alias('s'),users['userid']==sales['userid'],'inner')\\\n",
    "    .select('u.userid','u.signup_date','s.created_date','s.product_id')\\\n",
    "        .withColumn('Rank',rank().over(Window.partitionBy('userid').orderBy(col('created_date').asc())))\\\n",
    "            .show()"
   ]
  },
  {
   "cell_type": "markdown",
   "metadata": {
    "application/vnd.databricks.v1+cell": {
     "cellMetadata": {},
     "inputWidgets": {},
     "nuid": "8d134915-31f0-4f05-b36e-b5be9fc104f3",
     "showTitle": false,
     "tableResultSettingsMap": {},
     "title": ""
    }
   },
   "source": [
    "**_10 --- rank all transaction for each member whenever they are zomato gold member for every non gold member transaction mark as na_**"
   ]
  },
  {
   "cell_type": "code",
   "execution_count": 0,
   "metadata": {
    "application/vnd.databricks.v1+cell": {
     "cellMetadata": {
      "byteLimit": 2048000,
      "rowLimit": 10000
     },
     "inputWidgets": {},
     "nuid": "ebb3a83c-2e87-4e20-9f46-9f6a80500e8c",
     "showTitle": false,
     "tableResultSettingsMap": {},
     "title": ""
    }
   },
   "outputs": [
    {
     "output_type": "stream",
     "name": "stdout",
     "output_type": "stream",
     "text": [
      "+------+------------+----------+----------------+----+\n|userid|created_date|product_id|gold_signup_date|Rank|\n+------+------------+----------+----------------+----+\n|     1|  2016-03-11|         1|      2017-09-22|   1|\n|     1|  2016-05-20|         3|      2017-09-22|   2|\n|     1|  2016-11-09|         1|      2017-09-22|   3|\n|     1|  2017-03-11|         2|      2017-09-22|   4|\n|     1|  2017-04-18|         2|      2017-09-22|   5|\n|     1|  2018-03-19|         3|      2017-09-22|   6|\n|     1|  2019-10-23|         2|      2017-09-22|   7|\n|     2|  2017-09-24|         1|            NULL|  NA|\n|     2|  2017-11-08|         2|            NULL|  NA|\n|     2|  2018-09-10|         3|            NULL|  NA|\n|     2|  2019-12-18|         3|            NULL|  NA|\n|     3|  2016-11-10|         1|      2017-04-21|   1|\n|     3|  2016-12-15|         2|      2017-04-21|   2|\n|     3|  2016-12-20|         2|      2017-04-21|   3|\n|     3|  2017-12-07|         2|      2017-04-21|   4|\n|     3|  2019-12-18|         1|      2017-04-21|   5|\n+------+------------+----------+----------------+----+\n\n"
     ]
    }
   ],
   "source": [
    "from pyspark.sql.functions import rank,lit,when\n",
    "\n",
    "sales.alias('s').join(goldusers_signup.alias('g'),sales['userid']==goldusers_signup['userid'],'left')\\\n",
    "    .select('s.userid','s.created_date','s.product_id','g.gold_signup_date')\\\n",
    "        .withColumn('Rank',when( col('gold_signup_date').isNotNull(),rank().over(Window.partitionBy('userid').orderBy('created_date'))).otherwise(lit('NA'))).show()\n",
    "            "
   ]
  }
 ],
 "metadata": {
  "application/vnd.databricks.v1+notebook": {
   "computePreferences": null,
   "dashboards": [],
   "environmentMetadata": {
    "base_environment": "",
    "client": "1"
   },
   "language": "python",
   "notebookMetadata": {
    "pythonIndentUnit": 4
   },
   "notebookName": "Zomato Project using pyspark",
   "widgets": {}
  },
  "language_info": {
   "name": "python"
  }
 },
 "nbformat": 4,
 "nbformat_minor": 0
}
